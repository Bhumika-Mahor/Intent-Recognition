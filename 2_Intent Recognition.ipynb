{
 "cells": [
  {
   "cell_type": "markdown",
   "metadata": {},
   "source": [
    "# Problem_Statement_2:- Intent Recognition"
   ]
  },
  {
   "cell_type": "markdown",
   "metadata": {},
   "source": [
    "### Description:- Develop an intent recognition model that categorizes user inputs into predefined intents.\n",
    "### Solution:- Train a machine learning model using a dataset of labeled user inputs and corresponding intents."
   ]
  },
  {
   "cell_type": "markdown",
   "metadata": {},
   "source": [
    "### i)   Data Collection\n",
    "* Gather a dataset of labeled user inputs and corresponding intents. The dataset should include a variety of user queries and    their associated intents."
   ]
  },
  {
   "cell_type": "code",
   "execution_count": 1,
   "metadata": {},
   "outputs": [],
   "source": [
    "dataset = [\n",
    "    {\"input\": \"What's the weather like today?\", \"intent\": \"Weather\"},\n",
    "    {\"input\": \"Tell me a joke.\", \"intent\": \"Entertainment\"},\n",
    "    {\"input\": \"Set an alarm for 8 AM.\", \"intent\": \"Reminders\"},\n",
    "    # Add more examples...\n",
    "]\n"
   ]
  },
  {
   "cell_type": "markdown",
   "metadata": {},
   "source": [
    "### ii)  Data Preprocessing\n",
    "* Preprocess the text data to convert it into a suitable format for training. Common preprocessing steps include tokenization, lowercasing, and removing punctuation."
   ]
  },
  {
   "cell_type": "code",
   "execution_count": 2,
   "metadata": {},
   "outputs": [
    {
     "name": "stderr",
     "output_type": "stream",
     "text": [
      "[nltk_data] Downloading package punkt to\n",
      "[nltk_data]     C:\\Users\\HP\\AppData\\Roaming\\nltk_data...\n",
      "[nltk_data]   Unzipping tokenizers\\punkt.zip.\n"
     ]
    }
   ],
   "source": [
    "import nltk\n",
    "from nltk.tokenize import word_tokenize\n",
    "\n",
    "nltk.download('punkt')\n",
    "\n",
    "# Tokenization and lowercase conversion\n",
    "for example in dataset:\n",
    "    example[\"input_tokens\"] = word_tokenize(example[\"input\"].lower())\n"
   ]
  },
  {
   "cell_type": "markdown",
   "metadata": {},
   "source": [
    "### iii)  Feature Extraction\n",
    "* Convert the tokenized text data into numerical features that the machine learning model can work with. One common approach is to use TF-IDF (Term Frequency-Inverse Document Frequency) vectorization."
   ]
  },
  {
   "cell_type": "code",
   "execution_count": 3,
   "metadata": {},
   "outputs": [],
   "source": [
    "from sklearn.feature_extraction.text import TfidfVectorizer\n",
    "\n",
    "# Create a TF-IDF vectorizer\n",
    "vectorizer = TfidfVectorizer()\n",
    "\n",
    "# Fit and transform the input data\n",
    "X = vectorizer.fit_transform([example[\"input\"] for example in dataset])\n"
   ]
  },
  {
   "cell_type": "markdown",
   "metadata": {},
   "source": [
    "### iv)   Label Encoding\n",
    "* Encode the intents into numerical labels. You can use scikit-learn's LabelEncoder for this."
   ]
  },
  {
   "cell_type": "code",
   "execution_count": 4,
   "metadata": {},
   "outputs": [],
   "source": [
    "from sklearn.preprocessing import LabelEncoder\n",
    "\n",
    "# Encode intents\n",
    "label_encoder = LabelEncoder()\n",
    "y = label_encoder.fit_transform([example[\"intent\"] for example in dataset])\n"
   ]
  },
  {
   "cell_type": "markdown",
   "metadata": {},
   "source": [
    "### v) Model Selection and Training\n",
    "* Choose a machine learning model for intent recognition. A popular choice is the Support Vector Machine (SVM). Train the model using the preprocessed data."
   ]
  },
  {
   "cell_type": "code",
   "execution_count": 5,
   "metadata": {},
   "outputs": [
    {
     "data": {
      "text/plain": [
       "SVC(kernel='linear')"
      ]
     },
     "execution_count": 5,
     "metadata": {},
     "output_type": "execute_result"
    }
   ],
   "source": [
    "from sklearn.svm import SVC\n",
    "\n",
    "# Create an SVM classifier\n",
    "clf = SVC(kernel='linear')\n",
    "\n",
    "# Train the classifier\n",
    "clf.fit(X, y)\n"
   ]
  },
  {
   "cell_type": "markdown",
   "metadata": {},
   "source": [
    "### vi) Testing\n",
    "* Evaluate the model's performance on a separate test dataset. You can split your dataset into training and testing sets to do this."
   ]
  },
  {
   "cell_type": "code",
   "execution_count": 6,
   "metadata": {},
   "outputs": [
    {
     "name": "stdout",
     "output_type": "stream",
     "text": [
      "Accuracy: 0.0\n"
     ]
    }
   ],
   "source": [
    "from sklearn.model_selection import train_test_split\n",
    "from sklearn.metrics import accuracy_score\n",
    "\n",
    "# Split the dataset into training and testing sets\n",
    "X_train, X_test, y_train, y_test = train_test_split(X, y, test_size=0.2, random_state=42)\n",
    "\n",
    "# Train the classifier on the training data\n",
    "clf.fit(X_train, y_train)\n",
    "\n",
    "# Predict intents on the test data\n",
    "y_pred = clf.predict(X_test)\n",
    "\n",
    "# Calculate accuracy\n",
    "accuracy = accuracy_score(y_test, y_pred)\n",
    "print(\"Accuracy:\", accuracy)\n"
   ]
  },
  {
   "cell_type": "markdown",
   "metadata": {},
   "source": [
    "### vii)  Inference\n",
    "* Once your model is trained and performs well, you can use it to predict intents for new user inputs"
   ]
  },
  {
   "cell_type": "code",
   "execution_count": 7,
   "metadata": {},
   "outputs": [
    {
     "name": "stdout",
     "output_type": "stream",
     "text": [
      "Predicted Intent: Reminders\n"
     ]
    }
   ],
   "source": [
    "# Preprocess a new user input\n",
    "new_input = \"What's the weather like tomorrow?\"\n",
    "new_input_tokens = word_tokenize(new_input.lower())\n",
    "\n",
    "# Transform the new input using the same TF-IDF vectorizer\n",
    "new_input_vectorized = vectorizer.transform([new_input])\n",
    "\n",
    "# Predict the intent\n",
    "predicted_intent = clf.predict(new_input_vectorized)\n",
    "\n",
    "# Decode the predicted intent\n",
    "predicted_intent = label_encoder.inverse_transform(predicted_intent)\n",
    "print(\"Predicted Intent:\", predicted_intent[0])\n"
   ]
  },
  {
   "cell_type": "code",
   "execution_count": null,
   "metadata": {},
   "outputs": [],
   "source": []
  },
  {
   "cell_type": "code",
   "execution_count": null,
   "metadata": {},
   "outputs": [],
   "source": []
  }
 ],
 "metadata": {
  "kernelspec": {
   "display_name": "Python 3",
   "language": "python",
   "name": "python3"
  },
  "language_info": {
   "codemirror_mode": {
    "name": "ipython",
    "version": 3
   },
   "file_extension": ".py",
   "mimetype": "text/x-python",
   "name": "python",
   "nbconvert_exporter": "python",
   "pygments_lexer": "ipython3",
   "version": "3.8.5"
  }
 },
 "nbformat": 4,
 "nbformat_minor": 4
}
